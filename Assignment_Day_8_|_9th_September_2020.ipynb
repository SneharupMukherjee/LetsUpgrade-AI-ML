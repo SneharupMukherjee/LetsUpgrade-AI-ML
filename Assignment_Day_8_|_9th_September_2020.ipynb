{
  "nbformat": 4,
  "nbformat_minor": 0,
  "metadata": {
    "colab": {
      "name": "Untitled8.ipynb",
      "provenance": [],
      "authorship_tag": "ABX9TyOyG5jGnDvzmlA4JZPTTSAf",
      "include_colab_link": true
    },
    "kernelspec": {
      "name": "python3",
      "display_name": "Python 3"
    }
  },
  "cells": [
    {
      "cell_type": "markdown",
      "metadata": {
        "id": "view-in-github",
        "colab_type": "text"
      },
      "source": [
        "<a href=\"https://colab.research.google.com/github/SneharupMukherjee/LetsUpgrade-AI-ML/blob/master/Assignment_Day_8_%7C_9th_September_2020.ipynb\" target=\"_parent\"><img src=\"https://colab.research.google.com/assets/colab-badge.svg\" alt=\"Open In Colab\"/></a>"
      ]
    },
    {
      "cell_type": "markdown",
      "metadata": {
        "id": "8i-ImDWRAIIx",
        "colab_type": "text"
      },
      "source": [
        "\n",
        "\n",
        "Question 1: Recreate “NB 21 map, filter, lambda.ipynb” to try different variations or perform different calculations from the ones that are in the NB.\n"
      ]
    },
    {
      "cell_type": "code",
      "metadata": {
        "id": "ZsbryCozAQ6i",
        "colab_type": "code",
        "colab": {
          "base_uri": "https://localhost:8080/",
          "height": 139
        },
        "outputId": "cf6d787e-968e-41b1-be69-b78c353619d6"
      },
      "source": [
        "def cube(y): \n",
        "    return y*y*y; \n",
        "  \n",
        "g = lambda x: x*x*x \n",
        "print(g(7)) \n",
        "  \n",
        "print(cube(5)) \n",
        "\n",
        "li = [5, 7, 22, 97, 54, 62, 77, 23, 73, 61] \n",
        "final_list = list(filter(lambda x: (x%2 != 0) , li)) \n",
        "print(final_list) \n",
        "\n",
        "li = [5, 7, 22, 97, 54, 62, 77, 23, 73, 61] \n",
        "final_list = list(map(lambda x: x*2 , li)) \n",
        "print(final_list) \n",
        "\n",
        "from functools import reduce\n",
        "li = [5, 8, 10, 20, 50, 100] \n",
        "sum = reduce((lambda x, y: x + y), li) \n",
        "print (sum) \n",
        "\n",
        "def myfunc(a, b):\n",
        "  return a + b\n",
        "\n",
        "x = map(myfunc, ('apple', 'banana', 'cherry'), ('orange', 'lemon', 'pineapple'))\n",
        "\n",
        "print(x)\n",
        "print(list(x))"
      ],
      "execution_count": 3,
      "outputs": [
        {
          "output_type": "stream",
          "text": [
            "343\n",
            "125\n",
            "[5, 7, 97, 77, 23, 73, 61]\n",
            "[10, 14, 44, 194, 108, 124, 154, 46, 146, 122]\n",
            "193\n",
            "<map object at 0x7efd0f6d96d8>\n",
            "['appleorange', 'bananalemon', 'cherrypineapple']\n"
          ],
          "name": "stdout"
        }
      ]
    },
    {
      "cell_type": "markdown",
      "metadata": {
        "id": "gu51hJEmAZuO",
        "colab_type": "text"
      },
      "source": [
        "\n",
        "\n",
        "Question 2: Recreate your own Python NB for “Classes and Objects” from the pdf provided namely “Classes&Objects.pdf”\n"
      ]
    },
    {
      "cell_type": "code",
      "metadata": {
        "id": "0AcDNJ4cAssz",
        "colab_type": "code",
        "colab": {
          "base_uri": "https://localhost:8080/",
          "height": 69
        },
        "outputId": "600ca6d0-2670-4970-ea4f-10001328d26c"
      },
      "source": [
        "class Employee:\n",
        "   'Common base class for all employees'\n",
        "   empCount = 0\n",
        "\n",
        "   def __init__(self, name, salary):\n",
        "      self.name = name\n",
        "      self.salary = salary\n",
        "      Employee.empCount += 1\n",
        "   \n",
        "   def displayCount(self):\n",
        "     print (\"Total Employee %d\" % Employee.empCount)\n",
        "\n",
        "   def displayEmployee(self):\n",
        "      print (\"Name : \", self.name,  \", Salary: \", self.salary)\n",
        "\n",
        "emp1 = Employee(\"Zara\", 2000)\n",
        "emp2 = Employee(\"Manni\", 5000)\n",
        "emp1.displayEmployee()\n",
        "emp2.displayEmployee()\n",
        "print (\"Total Employee %d\" % Employee.empCount)\n",
        "\n",
        "emp1.salary = 7000  \n",
        "emp1.name = 'xyz'  \n",
        "del emp1.salary  \n",
        "\n",
        "hasattr(emp1, 'salary')    \n",
        "getattr(emp2, 'salary')    \n",
        "setattr(emp1, 'salary', 7000) \n",
        "delattr(emp1, 'salary')"
      ],
      "execution_count": 4,
      "outputs": [
        {
          "output_type": "stream",
          "text": [
            "Name :  Zara , Salary:  2000\n",
            "Name :  Manni , Salary:  5000\n",
            "Total Employee 2\n"
          ],
          "name": "stdout"
        }
      ]
    },
    {
      "cell_type": "code",
      "metadata": {
        "id": "DQMJOVpYBpfK",
        "colab_type": "code",
        "colab": {
          "base_uri": "https://localhost:8080/",
          "height": 124
        },
        "outputId": "6272ce36-5caf-4370-d8d3-7e1da0651cc9"
      },
      "source": [
        "class Employee:\n",
        "   'Common base class for all employees'\n",
        "   empCount = 0\n",
        "\n",
        "   def __init__(self, name, salary):\n",
        "      self.name = name\n",
        "      self.salary = salary\n",
        "      Employee.empCount += 1\n",
        "   \n",
        "   def displayCount(self):\n",
        "     print (\"Total Employee %d\" % Employee.empCount)\n",
        "\n",
        "   def displayEmployee(self):\n",
        "      print (\"Name : \", self.name,  \", Salary: \", self.salary)\n",
        "\n",
        "emp1 = Employee(\"Zara\", 2000)\n",
        "emp2 = Employee(\"Manni\", 5000)\n",
        "print (\"Employee.__doc__:\", Employee.__doc__)\n",
        "print (\"Employee.__name__:\", Employee.__name__)\n",
        "print (\"Employee.__module__:\", Employee.__module__)\n",
        "print (\"Employee.__bases__:\", Employee.__bases__)\n",
        "print (\"Employee.__dict__:\", Employee.__dict__ )"
      ],
      "execution_count": 5,
      "outputs": [
        {
          "output_type": "stream",
          "text": [
            "Employee.__doc__: Common base class for all employees\n",
            "Employee.__name__: Employee\n",
            "Employee.__module__: __main__\n",
            "Employee.__bases__: (<class 'object'>,)\n",
            "Employee.__dict__: {'__module__': '__main__', '__doc__': 'Common base class for all employees', 'empCount': 2, '__init__': <function Employee.__init__ at 0x7efd19a7abf8>, 'displayCount': <function Employee.displayCount at 0x7efd0f6e0400>, 'displayEmployee': <function Employee.displayEmployee at 0x7efd0f6e0488>, '__dict__': <attribute '__dict__' of 'Employee' objects>, '__weakref__': <attribute '__weakref__' of 'Employee' objects>}\n"
          ],
          "name": "stdout"
        }
      ]
    },
    {
      "cell_type": "code",
      "metadata": {
        "id": "BdaSUUljBu1I",
        "colab_type": "code",
        "colab": {
          "base_uri": "https://localhost:8080/",
          "height": 52
        },
        "outputId": "f00bc078-519b-4be0-8055-042a6775d94d"
      },
      "source": [
        "class Point:\n",
        "   def __init__( self, x=0, y=0):\n",
        "      self.x = x\n",
        "      self.y = y\n",
        "   def __del__(self):\n",
        "      class_name = self.__class__.__name__\n",
        "      print (class_name, \"destroyed\")\n",
        "\n",
        "pt1 = Point()\n",
        "pt2 = pt1\n",
        "pt3 = pt1\n",
        "print (id(pt1), id(pt2), id(pt3))   # prints the ids of the obejcts\n",
        "del pt1\n",
        "del pt2\n",
        "del pt3"
      ],
      "execution_count": 6,
      "outputs": [
        {
          "output_type": "stream",
          "text": [
            "139625350719920 139625350719920 139625350719920\n",
            "Point destroyed\n"
          ],
          "name": "stdout"
        }
      ]
    },
    {
      "cell_type": "code",
      "metadata": {
        "id": "ZHBNQduKBzeM",
        "colab_type": "code",
        "colab": {
          "base_uri": "https://localhost:8080/",
          "height": 34
        },
        "outputId": "d949454d-8612-4435-bec3-0b2f3ffd027c"
      },
      "source": [
        "class Vector:\n",
        "   def __init__(self, a, b):\n",
        "      self.a = a\n",
        "      self.b = b\n",
        "\n",
        "   def __str__(self):\n",
        "      return 'Vector (%d, %d)' % (self.a, self.b)\n",
        "   \n",
        "   def __add__(self,other):\n",
        "      return Vector(self.a + other.a, self.b + other.b)\n",
        "\n",
        "v1 = Vector(2,10)\n",
        "v2 = Vector(5,-2)\n",
        "print (v1 + v2)"
      ],
      "execution_count": 7,
      "outputs": [
        {
          "output_type": "stream",
          "text": [
            "Vector (7, 8)\n"
          ],
          "name": "stdout"
        }
      ]
    },
    {
      "cell_type": "code",
      "metadata": {
        "id": "JuO1W_9ZB3xV",
        "colab_type": "code",
        "colab": {
          "base_uri": "https://localhost:8080/",
          "height": 237
        },
        "outputId": "64c1432d-6f9a-403d-8cd7-84fc6fef2b5a"
      },
      "source": [
        "class JustCounter:\n",
        "   __secretCount = 0\n",
        "  \n",
        "   def count(self):\n",
        "      self.__secretCount += 1\n",
        "      print (self.__secretCount)\n",
        "\n",
        "counter = JustCounter()\n",
        "counter.count()\n",
        "counter.count()\n",
        "print (counter.__secretCount)"
      ],
      "execution_count": 8,
      "outputs": [
        {
          "output_type": "stream",
          "text": [
            "1\n",
            "2\n"
          ],
          "name": "stdout"
        },
        {
          "output_type": "error",
          "ename": "AttributeError",
          "evalue": "ignored",
          "traceback": [
            "\u001b[0;31m---------------------------------------------------------------------------\u001b[0m",
            "\u001b[0;31mAttributeError\u001b[0m                            Traceback (most recent call last)",
            "\u001b[0;32m<ipython-input-8-e72fb3845cdd>\u001b[0m in \u001b[0;36m<module>\u001b[0;34m()\u001b[0m\n\u001b[1;32m      9\u001b[0m \u001b[0mcounter\u001b[0m\u001b[0;34m.\u001b[0m\u001b[0mcount\u001b[0m\u001b[0;34m(\u001b[0m\u001b[0;34m)\u001b[0m\u001b[0;34m\u001b[0m\u001b[0;34m\u001b[0m\u001b[0m\n\u001b[1;32m     10\u001b[0m \u001b[0mcounter\u001b[0m\u001b[0;34m.\u001b[0m\u001b[0mcount\u001b[0m\u001b[0;34m(\u001b[0m\u001b[0;34m)\u001b[0m\u001b[0;34m\u001b[0m\u001b[0;34m\u001b[0m\u001b[0m\n\u001b[0;32m---> 11\u001b[0;31m \u001b[0mprint\u001b[0m \u001b[0;34m(\u001b[0m\u001b[0mcounter\u001b[0m\u001b[0;34m.\u001b[0m\u001b[0m__secretCount\u001b[0m\u001b[0;34m)\u001b[0m\u001b[0;34m\u001b[0m\u001b[0;34m\u001b[0m\u001b[0m\n\u001b[0m",
            "\u001b[0;31mAttributeError\u001b[0m: 'JustCounter' object has no attribute '__secretCount'"
          ]
        }
      ]
    }
  ]
}