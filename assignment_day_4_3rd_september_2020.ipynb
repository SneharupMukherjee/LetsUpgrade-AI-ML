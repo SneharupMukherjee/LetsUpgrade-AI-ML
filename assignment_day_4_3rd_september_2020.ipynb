{
 "metadata": {
  "language_info": {
   "codemirror_mode": {
    "name": "ipython",
    "version": 3
   },
   "file_extension": ".py",
   "mimetype": "text/x-python",
   "name": "python",
   "nbconvert_exporter": "python",
   "pygments_lexer": "ipython3",
   "version": "3.8.2-final"
  },
  "orig_nbformat": 2,
  "kernelspec": {
   "name": "python_defaultSpec_1599383294214",
   "display_name": "Python 3.8.2 64-bit ('machine': venv)"
  }
 },
 "nbformat": 4,
 "nbformat_minor": 2,
 "cells": [
  {
   "cell_type": "markdown",
   "metadata": {},
   "source": [
    "\n",
    "\n",
    "Question 1: Research on whether addition, subtraction, multiplication, division, floor division, and modulo operations be performed on complex numbers. Based on your study, implement a Python program to demonstrate these operations.\n",
    "\n",
    "Ans- Floor and modulus operators (// and % respectively) are not allowed to be used on complex number in Python 3.x. However, these operations are defined for complex numbers in Python 2.7.x\n"
   ]
  },
  {
   "cell_type": "code",
   "execution_count": 1,
   "metadata": {
    "tags": []
   },
   "outputs": [
    {
     "output_type": "stream",
     "name": "stdout",
     "text": "Addition of two complex numbers :  (14+9j)\nSubtraction of two complex numbers :  (6+23j)\nMultiplication of two complex numbers :  (152-6j)\nDivision of two complex numbers :  (-1.107692307692308+2.0615384615384618j)\n"
    }
   ],
   "source": [
    "print(\"Addition of two complex numbers : \",(10+16j)+(4-7j))\n",
    "print(\"Subtraction of two complex numbers : \",(10+16j)-(4-7j))\n",
    "print(\"Multiplication of two complex numbers : \",(10+16j)*(4-7j))\n",
    "print(\"Division of two complex numbers : \",(10+16j)/(4-7j))"
   ]
  },
  {
   "cell_type": "markdown",
   "metadata": {},
   "source": [
    "\n",
    "\n",
    "Question 2: Research on range() functions and its parameters. Create a markdown cell and write in your own words (no copy-paste from google please) what you understand about it. Implement a small program of your choice on the same.\n",
    "\n",
    "Ans- range() allows user to generate a series of numbers within a given range. Depending on how many arguments user is passing to the function, user can decide where that series of numbers will begin and end as well as how big the difference will be between one number. There are three ways you can call range() :\n",
    "\n",
    "    range(stop) takes one argument.\n",
    "    range(start, stop) takes two arguments.\n",
    "    range(start, stop, step) takes three arguments.\n",
    "\n",
    "    start: integer starting from which the sequence of integers is to be returned\n",
    "    stop: integer before which the sequence of integers is to be returned. The range of integers end at stop – 1.\n",
    "    step: integer value which determines the increment between each integer in the sequence\n",
    "\n"
   ]
  },
  {
   "cell_type": "code",
   "execution_count": 2,
   "metadata": {
    "tags": []
   },
   "outputs": [
    {
     "output_type": "stream",
     "name": "stdout",
     "text": "204 260 316 372 428 484 540 596 652 708 764 820 876 932 988 \n564 530 496 462 428 394 360 326 292 258 224 190 156 122 88 54 20 -14 -48"
    }
   ],
   "source": [
    "for i in range(204, 999, 56): \n",
    "    print(i, end =\" \") \n",
    "print()\n",
    "\n",
    "for i in range(564, -78, -34): \n",
    "    print(i, end =\" \")"
   ]
  },
  {
   "cell_type": "markdown",
   "metadata": {},
   "source": [
    "Question 3: Consider two numbers. Perform their subtraction and if the result of subtraction is greater than 25, print their multiplication result else print their division result."
   ]
  },
  {
   "cell_type": "code",
   "execution_count": 3,
   "metadata": {
    "tags": []
   },
   "outputs": [
    {
     "output_type": "stream",
     "name": "stdout",
     "text": "0.35294117647058826\n"
    }
   ],
   "source": [
    "a,b = map(int,input().split())\n",
    "if (abs(a-b) > 25):\n",
    "  print(a*b)\n",
    "else:\n",
    "  print(a/b)"
   ]
  },
  {
   "cell_type": "markdown",
   "metadata": {},
   "source": [
    "\n",
    "\n",
    "Question 4: Consider a list of 10 elements of integer values. If the number in the list is divisible by 2, print the result as \"square of that number minus 2\".\n"
   ]
  },
  {
   "cell_type": "code",
   "execution_count": 6,
   "metadata": {
    "tags": []
   },
   "outputs": [
    {
     "output_type": "stream",
     "name": "stdout",
     "text": "49282\n197134\n443554\n788542\n9998\n"
    }
   ],
   "source": [
    "a = []\n",
    "a = list(map(int,input(\"Enter the numbers : \").strip().split()))[:10]\n",
    "i=0\n",
    "for i in range(0, 10): \n",
    "    if ((a[i]%2) == 0):\n",
    "      print(a[i]**2 - 2)"
   ]
  },
  {
   "cell_type": "markdown",
   "metadata": {},
   "source": [
    "\n",
    "\n",
    "Question 5: Consider a list of 10 elements. Print all the elements in the list which are greater than 7 when that number is divided 2.\n"
   ]
  },
  {
   "cell_type": "code",
   "execution_count": 7,
   "metadata": {
    "tags": []
   },
   "outputs": [
    {
     "output_type": "stream",
     "name": "stdout",
     "text": "23\n34\n56\n78\n90\n98\n87\n65\n43\n"
    }
   ],
   "source": [
    "a = []\n",
    "a = list(map(int,input(\"Enter the numbers : \").strip().split()))[:10]\n",
    "i=0\n",
    "for i in range(0, 10): \n",
    "    if ((a[i]//2) > 7):\n",
    "      print(a[i])"
   ]
  }
 ]
}