{
 "metadata": {
  "language_info": {
   "codemirror_mode": {
    "name": "ipython",
    "version": 3
   },
   "file_extension": ".py",
   "mimetype": "text/x-python",
   "name": "python",
   "nbconvert_exporter": "python",
   "pygments_lexer": "ipython3",
   "version": "3.8.2-final"
  },
  "orig_nbformat": 2,
  "kernelspec": {
   "name": "python_defaultSpec_1599382146595",
   "display_name": "Python 3.8.2 64-bit ('machine': venv)"
  }
 },
 "nbformat": 4,
 "nbformat_minor": 2,
 "cells": [
  {
   "cell_type": "markdown",
   "metadata": {},
   "source": [
    "Write a program to subtract two complex numbers in Python."
   ]
  },
  {
   "cell_type": "code",
   "execution_count": 1,
   "metadata": {
    "tags": []
   },
   "outputs": [
    {
     "output_type": "stream",
     "name": "stdout",
     "text": "Diff. =  (-1+3j)\n"
    }
   ],
   "source": [
    "first = complex(input('Enter first complex number: '))\n",
    "second = complex(input('Enter second complex number: '))\n",
    "print('Diff. = ', (first - second))"
   ]
  },
  {
   "cell_type": "markdown",
   "metadata": {},
   "source": [
    "Write a program to find the fourth root of a number."
   ]
  },
  {
   "cell_type": "code",
   "execution_count": 3,
   "metadata": {
    "tags": []
   },
   "outputs": [
    {
     "output_type": "stream",
     "name": "stdout",
     "text": "4th root of 76 is 2.9525917237371893\n"
    }
   ],
   "source": [
    "import math\n",
    "n = int(input(\"Enter a number \"))\n",
    "k = pow(n,(1.0/4))\n",
    "print(\"4th root of %d is %s\" %(n,k))"
   ]
  },
  {
   "cell_type": "markdown",
   "metadata": {},
   "source": [
    "Write a program to swap two numbers in Python without using a temporary variable."
   ]
  },
  {
   "cell_type": "code",
   "execution_count": 4,
   "metadata": {
    "tags": []
   },
   "outputs": [
    {
     "output_type": "stream",
     "name": "stdout",
     "text": "Value of X after swapping: 43\nValue of Y after swapping: 12\n"
    }
   ],
   "source": [
    "x, y = (input(\"Enter two numbers \").split())\n",
    "x,y = y,x\n",
    "print(\"Value of X after swapping: %s\" %x)\n",
    "print(\"Value of Y after swapping: %s\" %y)"
   ]
  },
  {
   "cell_type": "markdown",
   "metadata": {},
   "source": [
    "Write a program to convert Fahrenheit to kelvin and celsius both."
   ]
  },
  {
   "cell_type": "code",
   "execution_count": 5,
   "metadata": {
    "tags": []
   },
   "outputs": [
    {
     "output_type": "stream",
     "name": "stdout",
     "text": "Temperature in Kelvin scale = 385.372\nTemperature in Celsius scale = 112.222\n"
    }
   ],
   "source": [
    "def F_to_K(f): \n",
    "    return 273.15 + ((f - 32.0) * (5.0/9.0)) \n",
    "f = float(input(\"Enter temperature in Fahrenheit scale \"))\n",
    "x = F_to_K(f) \n",
    "print(\"Temperature in Kelvin scale = %.3f\" %x)\n",
    "print(\"Temperature in Celsius scale = %.3f\" %(x-273.15))"
   ]
  },
  {
   "cell_type": "markdown",
   "metadata": {},
   "source": [
    "\n",
    "\n",
    "Write a program to demonstrate all the available data types in Python. Hint: Use type() function. Text Type: str Numeric Types: int, float, complex Sequence Types: list, tuple, range Mapping Type: dict Set Types: set, frozenset Boolean Type: bool Binary Types: bytes, bytearray, memoryview"
   ]
  },
  {
   "cell_type": "code",
   "execution_count": 6,
   "metadata": {
    "tags": []
   },
   "outputs": [
    {
     "output_type": "stream",
     "name": "stdout",
     "text": "Hello World\n<class 'str'>\n89\n<class 'int'>\n20.5\n<class 'float'>\n(4+9j)\n<class 'complex'>\n['Machine Learning', 'Deep Learning', 'Data Science']\n<class 'list'>\n('Digital Marketing', 'Industrial Hemp', 'Psychology')\n<class 'tuple'>\nrange(0, 6)\n<class 'range'>\n{'name': 'Robert Downey Jr.', 'age': 55}\n<class 'dict'>\n{'Data Science', 'Machine Learning', 'Deep Learning'}\n<class 'set'>\nfrozenset({'Digital Marketing', 'Psychology', 'Industrial Hemp'})\n<class 'frozenset'>\nTrue\n<class 'bool'>\nb'RDJ'\n<class 'bytes'>\nbytearray(b'\\x00\\x00\\x00\\x00\\x00\\x00\\x00\\x00\\x00\\x00\\x00\\x00\\x00\\x00\\x00\\x00\\x00\\x00\\x00\\x00')\n<class 'bytearray'>\n<memory at 0x7f584f9c57c0>\n<class 'memoryview'>\n"
    }
   ],
   "source": [
    "x = \"Hello World\"\t\n",
    "print(x)\n",
    "print(type(x))\n",
    "x = 89\t\n",
    "print(x)\n",
    "print(type(x))\n",
    "x = 20.5\t\n",
    "print(x)\n",
    "print(type(x))\n",
    "x = 4+9j\n",
    "print(x)\n",
    "print(type(x))\n",
    "x = [\"Machine Learning\", \"Deep Learning\", \"Data Science\"]\t\n",
    "print(x)\n",
    "print(type(x))\t\n",
    "x = (\"Digital Marketing\", \"Industrial Hemp\", \"Psychology\")\t\n",
    "print(x)\n",
    "print(type(x))\n",
    "x = range(6)\n",
    "print(x)\n",
    "print(type(x))\t\n",
    "x = {\"name\" : \"Robert Downey Jr.\", \"age\" : 55}\n",
    "print(x)\n",
    "print(type(x))\t\n",
    "x = {\"Machine Learning\", \"Deep Learning\", \"Data Science\"}\t\n",
    "print(x)\n",
    "print(type(x))\n",
    "x = frozenset({\"Digital Marketing\", \"Industrial Hemp\", \"Psychology\"})\t\n",
    "print(x)\n",
    "print(type(x))\n",
    "x = True\t\t\n",
    "print(x)\n",
    "print(type(x))\n",
    "x = b\"RDJ\"\n",
    "print(x)\n",
    "print(type(x))\t\t\n",
    "x = bytearray(20)\t\n",
    "print(x)\n",
    "print(type(x))\n",
    "x = memoryview(bytes(24))\n",
    "print(x)\n",
    "print(type(x))"
   ]
  }
 ]
}