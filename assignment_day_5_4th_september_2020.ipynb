{
 "metadata": {
  "language_info": {
   "codemirror_mode": {
    "name": "ipython",
    "version": 3
   },
   "file_extension": ".py",
   "mimetype": "text/x-python",
   "name": "python",
   "nbconvert_exporter": "python",
   "pygments_lexer": "ipython3",
   "version": "3.8.2-final"
  },
  "orig_nbformat": 2,
  "kernelspec": {
   "name": "python_defaultSpec_1599383728956",
   "display_name": "Python 3.8.2 64-bit ('machine': venv)"
  }
 },
 "nbformat": 4,
 "nbformat_minor": 2,
 "cells": [
  {
   "cell_type": "markdown",
   "metadata": {},
   "source": [
    "\n",
    "\n",
    "Question 1 : Write a Python program to find the first 20 non-even prime natural numbers.\n"
   ]
  },
  {
   "cell_type": "code",
   "execution_count": 1,
   "metadata": {
    "tags": []
   },
   "outputs": [
    {
     "output_type": "stream",
     "name": "stdout",
     "text": "[3, 5, 7, 11, 13, 17, 19, 23, 29, 31, 37, 41, 43, 47, 53, 59, 61, 67, 71, 73]\n"
    }
   ],
   "source": [
    "l = [3,5,7]\n",
    "c = 1\n",
    "n = 2\n",
    "while c <= 17:\n",
    "  a = 6*n - 1\n",
    "  b = 6*n + 1 \n",
    "\n",
    "  if (a%5 != 0 and a%7 != 0):\n",
    "    l.append(a)\n",
    "    c+=1\n",
    "\n",
    "  if (b%5 != 0 and b%7 != 0):\n",
    "    l.append(b)\n",
    "    c+=1\n",
    "\n",
    "  n+=1\n",
    "\n",
    "print(l)"
   ]
  },
  {
   "cell_type": "markdown",
   "metadata": {},
   "source": [
    "Question 2 : Write a Python program to implement 15 functions of string."
   ]
  },
  {
   "cell_type": "code",
   "execution_count": 2,
   "metadata": {
    "tags": []
   },
   "outputs": [
    {
     "output_type": "stream",
     "name": "stdout",
     "text": "All characters are not alphabets.\nSNEHARUP MUKHERJEE\nAll characters are not alphanumeric.\nContains non-whitespace characters.\nAll characters are not numeric.\n15\n15\nTrue\nThe count is: 1\nNot an uppercase String\nLowercase String\nNot a Titlecased String\n000000sneharup mukherjee\nFalse\nsneharup mukherjee is not a valid identifier.\n"
    }
   ],
   "source": [
    "s = input(\"Enter a string : \")\n",
    "\n",
    "if s.isalpha() == True:  #1\n",
    "   print(\"All characters are alphabets\")\n",
    "else:\n",
    "    print(\"All characters are not alphabets.\")\n",
    "\n",
    "print(s.swapcase()) #2\n",
    "\n",
    "if s.isalnum() == True:  #3\n",
    "   print(\"All characters of string are alphanumeric.\")\n",
    "else:\n",
    "    print(\"All characters are not alphanumeric.\")\n",
    "\n",
    "if s.isspace() == True:  #4\n",
    "  print('All whitespace characters')\n",
    "else:\n",
    "  print('Contains non-whitespace characters.')\n",
    "\n",
    "if s.isnumeric() == True:  #5\n",
    "  print('All characters are numeric.')\n",
    "else:\n",
    "  print('All characters are not numeric.')\n",
    "\n",
    "substring = input(\"Enter the substring to be searched : \")\n",
    "a = int(input(\"Enter start value for substring search: \"))\n",
    "b = int(input(\"Enter end value for substring search: \"))\n",
    "print(s.find(substring, a, b))  #6\n",
    "print(s.rfind(substring, a, b))  #7\n",
    "result = s.startswith(substring, a, b)  #8\n",
    "print(result)\n",
    "count = s.count(substring, a, b) #9\n",
    "print(\"The count is:\", count)\n",
    "\n",
    "if s.isupper() == True: #10\n",
    "  print('Uppercase String')\n",
    "else:\n",
    "  print('Not an uppercase String')\n",
    "\n",
    "if s.islower() == True: #11\n",
    "  print('Lowercase String')\n",
    "else:\n",
    "  print('Not an lowercase String')\n",
    "\n",
    "if s.istitle() == True: #12\n",
    "  print('Titlecased String')\n",
    "else:\n",
    "  print('Not a Titlecased String')\n",
    "\n",
    "print(s.zfill(len(s)+6)) #13\n",
    "\n",
    "print(s.isdecimal()) #14\n",
    "\n",
    "if s.isidentifier() == True: #15\n",
    "  print(s, 'is a valid identifier.')\n",
    "else:\n",
    "  print(s, 'is not a valid identifier.')"
   ]
  },
  {
   "cell_type": "markdown",
   "metadata": {},
   "source": [
    "\n",
    "\n",
    "Question 3: Write a Python program to check if the given string is a Palindrome or Anagram or None of them. Display the message accordingly to the user.\n"
   ]
  },
  {
   "cell_type": "code",
   "execution_count": 3,
   "metadata": {
    "tags": []
   },
   "outputs": [
    {
     "output_type": "stream",
     "name": "stdout",
     "text": "Both strings are not anagrams of each other.\nawewa is a palindrome\n"
    }
   ],
   "source": [
    "def isAnagram(s1,s2):\n",
    "  return (sorted(s1.lower()) == sorted(s2.lower()))\n",
    "def isPalindrome(s):\n",
    "  return s.lower() == s.lower()[::-1]\n",
    "a = input(\"Enter 1st string for anagram check: \")\n",
    "b = input(\"Enter 2nd string for anagram check: \")\n",
    "if isAnagram(a,b):\n",
    "  print(\"Both strings are anagrams of each other.\")\n",
    "else:\n",
    "  print(\"Both strings are not anagrams of each other.\")\n",
    "c = input(\"Enter string for palindrome check: \")\n",
    "if isPalindrome(c):\n",
    "  print(\"{} is a palindrome\".format(c))\n",
    "else:\n",
    "  print(\"{} is not a palindrome\".format(c))"
   ]
  },
  {
   "cell_type": "markdown",
   "metadata": {},
   "source": [
    "Question 4: Write a Python's user-defined function that removes all the additional characters from the string and convert it finally to lower case using built-in lower(). eg: If the string is \"Dr. Darshan Ingle @AIML Trainer\", then the output be \"drdarshaningleaimltrainer\"."
   ]
  },
  {
   "cell_type": "code",
   "execution_count": 7,
   "metadata": {},
   "outputs": [
    {
     "output_type": "error",
     "ename": "NameError",
     "evalue": "name 're' is not defined",
     "traceback": [
      "\u001b[0;31m---------------------------------------------------------------------------\u001b[0m",
      "\u001b[0;31mNameError\u001b[0m                                 Traceback (most recent call last)",
      "\u001b[0;32m<ipython-input-7-34e53d4e9d53>\u001b[0m in \u001b[0;36m<module>\u001b[0;34m\u001b[0m\n\u001b[1;32m      5\u001b[0m \u001b[0;34m\u001b[0m\u001b[0m\n\u001b[1;32m      6\u001b[0m \u001b[0ma\u001b[0m \u001b[0;34m=\u001b[0m \u001b[0minput\u001b[0m\u001b[0;34m(\u001b[0m\u001b[0;34m\"Enter a string: \"\u001b[0m\u001b[0;34m)\u001b[0m\u001b[0;34m\u001b[0m\u001b[0;34m\u001b[0m\u001b[0m\n\u001b[0;32m----> 7\u001b[0;31m \u001b[0mprint\u001b[0m\u001b[0;34m(\u001b[0m\u001b[0mstrchng\u001b[0m\u001b[0;34m(\u001b[0m\u001b[0ma\u001b[0m\u001b[0;34m)\u001b[0m\u001b[0;34m)\u001b[0m\u001b[0;34m\u001b[0m\u001b[0;34m\u001b[0m\u001b[0m\n\u001b[0m",
      "\u001b[0;32m<ipython-input-7-34e53d4e9d53>\u001b[0m in \u001b[0;36mstrchng\u001b[0;34m(s)\u001b[0m\n\u001b[1;32m      1\u001b[0m \u001b[0;32mdef\u001b[0m \u001b[0mstrchng\u001b[0m\u001b[0;34m(\u001b[0m\u001b[0ms\u001b[0m\u001b[0;34m)\u001b[0m\u001b[0;34m:\u001b[0m\u001b[0;34m\u001b[0m\u001b[0;34m\u001b[0m\u001b[0m\n\u001b[1;32m      2\u001b[0m   \u001b[0ms\u001b[0m \u001b[0;34m=\u001b[0m \u001b[0ms\u001b[0m\u001b[0;34m.\u001b[0m\u001b[0mlower\u001b[0m\u001b[0;34m(\u001b[0m\u001b[0;34m)\u001b[0m\u001b[0;34m\u001b[0m\u001b[0;34m\u001b[0m\u001b[0m\n\u001b[0;32m----> 3\u001b[0;31m   \u001b[0mresult\u001b[0m \u001b[0;34m=\u001b[0m \u001b[0mre\u001b[0m\u001b[0;34m.\u001b[0m\u001b[0msub\u001b[0m\u001b[0;34m(\u001b[0m\u001b[0;34m'[\\W | \\d_]+'\u001b[0m\u001b[0;34m,\u001b[0m \u001b[0;34m''\u001b[0m\u001b[0;34m,\u001b[0m \u001b[0ms\u001b[0m\u001b[0;34m)\u001b[0m\u001b[0;34m\u001b[0m\u001b[0;34m\u001b[0m\u001b[0m\n\u001b[0m\u001b[1;32m      4\u001b[0m   \u001b[0;32mreturn\u001b[0m \u001b[0mresult\u001b[0m\u001b[0;34m\u001b[0m\u001b[0;34m\u001b[0m\u001b[0m\n\u001b[1;32m      5\u001b[0m \u001b[0;34m\u001b[0m\u001b[0m\n",
      "\u001b[0;31mNameError\u001b[0m: name 're' is not defined"
     ]
    }
   ],
   "source": [
    "def strchng(s):\n",
    "  s = s.lower()\n",
    "  result = re.sub('[\\W | \\d_]+', '', s) \n",
    "  return result\n",
    "\n",
    "a = input(\"Enter a string: \")\n",
    "print(strchng(a))"
   ]
  }
 ]
}