{
  "nbformat": 4,
  "nbformat_minor": 0,
  "metadata": {
    "colab": {
      "name": "Untitled8.ipynb",
      "provenance": [],
      "authorship_tag": "ABX9TyPaWJcXVxYAhOhGlmBpzAah",
      "include_colab_link": true
    },
    "kernelspec": {
      "name": "python3",
      "display_name": "Python 3"
    }
  },
  "cells": [
    {
      "cell_type": "markdown",
      "metadata": {
        "id": "view-in-github",
        "colab_type": "text"
      },
      "source": [
        "<a href=\"https://colab.research.google.com/github/SneharupMukherjee/LetsUpgrade-AI-ML/blob/master/Assignment_Day_6___7th_September_2020.ipynb\" target=\"_parent\"><img src=\"https://colab.research.google.com/assets/colab-badge.svg\" alt=\"Open In Colab\"/></a>"
      ]
    },
    {
      "cell_type": "markdown",
      "metadata": {
        "id": "8i-ImDWRAIIx",
        "colab_type": "text"
      },
      "source": [
        "\n",
        "\n",
        "Question 1 : Assuming that we have some email addresses in the \"username@companyname.com\" format, please write a program to print the company name of a given email address. Both user names and company names are composed of letters only.\n"
      ]
    },
    {
      "cell_type": "code",
      "metadata": {
        "id": "ZsbryCozAQ6i",
        "colab_type": "code",
        "colab": {
          "base_uri": "https://localhost:8080/",
          "height": 52
        },
        "outputId": "4c84f563-ba9a-40d3-90ce-7baac43118dd"
      },
      "source": [
        "a = input(\"Enter an e-mail address: \")\n",
        "b = a.find('@')\n",
        "c = a.find('.',b)\n",
        "print(\"The name of the company is\", format(a[b+1:c].upper()))"
      ],
      "execution_count": 9,
      "outputs": [
        {
          "output_type": "stream",
          "text": [
            "Enter an e-mail address: mukherjee.sneharup@gmail.com\n",
            "The name of the company is GMAIL\n"
          ],
          "name": "stdout"
        }
      ]
    },
    {
      "cell_type": "markdown",
      "metadata": {
        "id": "gu51hJEmAZuO",
        "colab_type": "text"
      },
      "source": [
        "\n",
        "\n",
        "Question 2 : Write a program that accepts a comma-separated sequence of words as input and prints the words in a comma-separated sequence after sorting them alphabetically.\n"
      ]
    },
    {
      "cell_type": "code",
      "metadata": {
        "id": "0AcDNJ4cAssz",
        "colab_type": "code",
        "colab": {
          "base_uri": "https://localhost:8080/",
          "height": 52
        },
        "outputId": "ad5fd7a8-230c-4fca-fe04-1236b8eae2af"
      },
      "source": [
        "items=[x for x in input().split(', ')]\n",
        "items.sort()\n",
        "print(\"Sorted data are \",', '.join(items))"
      ],
      "execution_count": 10,
      "outputs": [
        {
          "output_type": "stream",
          "text": [
            "digitalmarketing, machinelearning, deeplearning, datascience\n",
            "Sorted data are  datascience, deeplearning, digitalmarketing, machinelearning\n"
          ],
          "name": "stdout"
        }
      ]
    },
    {
      "cell_type": "markdown",
      "metadata": {
        "id": "2K5klmYADbvu",
        "colab_type": "text"
      },
      "source": [
        "Question 3: Create your own Jupyter Notebook for Sets. Reference link: https://www.w3schools.com/python/python_sets.asp"
      ]
    },
    {
      "cell_type": "code",
      "metadata": {
        "id": "DQMJOVpYBpfK",
        "colab_type": "code",
        "colab": {
          "base_uri": "https://localhost:8080/",
          "height": 462
        },
        "outputId": "6d4ce201-10e2-4173-cb88-badf9312309b"
      },
      "source": [
        "myset = {\"Machine Learning\", \"Deep Learning\", \"Data Science\"}\n",
        "print(myset)\n",
        "\n",
        "for x in myset:\n",
        "  print(x)\n",
        "\n",
        "print(\"Machine Learning\" in myset)\n",
        "\n",
        "myset.add(\"Psychology\")\n",
        "print(myset)\n",
        "\n",
        "myset.update([\"Digital Marketing\",\"Hemp\"])\n",
        "print(myset)\n",
        "\n",
        "print(len(myset))\n",
        "\n",
        "myset.remove(\"Data Science\")\n",
        "print(myset)\n",
        "\n",
        "myset.discard(\"Psychology\")\n",
        "print(myset)\n",
        "\n",
        "x = myset.pop()\n",
        "print(x)\n",
        "print(myset)\n",
        "\n",
        "myset.clear()\n",
        "print(myset)\n",
        "\n",
        "myset = {\"Affiliate\",\"Niche\",\"SEO\"}\n",
        "del myset\n",
        "print(myset)\n",
        "\n",
        "set1 = {\"a\", \"b\" , \"c\"}\n",
        "set2 = {1, 2, 3}\n",
        "set3 = set1.union(set2)\n",
        "print(set3)\n",
        "\n",
        "set1 = {\"a\", \"b\" , \"c\"}\n",
        "set2 = {1, 2, 3}\n",
        "set1.update(set2)\n",
        "print(set1)\n",
        "\n",
        "SPset = set((\"Affiliate\",\"Niche\",\"SEO\"))\n",
        "print(SPset)"
      ],
      "execution_count": 11,
      "outputs": [
        {
          "output_type": "stream",
          "text": [
            "{'Machine Learning', 'Data Science', 'Deep Learning'}\n",
            "Machine Learning\n",
            "Data Science\n",
            "Deep Learning\n",
            "True\n",
            "{'Machine Learning', 'Data Science', 'Deep Learning', 'Psychology'}\n",
            "{'Digital Marketing', 'Hemp', 'Deep Learning', 'Psychology', 'Data Science', 'Machine Learning'}\n",
            "6\n",
            "{'Digital Marketing', 'Hemp', 'Deep Learning', 'Psychology', 'Machine Learning'}\n",
            "{'Digital Marketing', 'Hemp', 'Deep Learning', 'Machine Learning'}\n",
            "Digital Marketing\n",
            "{'Hemp', 'Deep Learning', 'Machine Learning'}\n",
            "set()\n"
          ],
          "name": "stdout"
        },
        {
          "output_type": "error",
          "ename": "NameError",
          "evalue": "ignored",
          "traceback": [
            "\u001b[0;31m---------------------------------------------------------------------------\u001b[0m",
            "\u001b[0;31mNameError\u001b[0m                                 Traceback (most recent call last)",
            "\u001b[0;32m<ipython-input-11-f9bfd6d71de3>\u001b[0m in \u001b[0;36m<module>\u001b[0;34m()\u001b[0m\n\u001b[1;32m     30\u001b[0m \u001b[0mmyset\u001b[0m \u001b[0;34m=\u001b[0m \u001b[0;34m{\u001b[0m\u001b[0;34m\"Affiliate\"\u001b[0m\u001b[0;34m,\u001b[0m\u001b[0;34m\"Niche\"\u001b[0m\u001b[0;34m,\u001b[0m\u001b[0;34m\"SEO\"\u001b[0m\u001b[0;34m}\u001b[0m\u001b[0;34m\u001b[0m\u001b[0;34m\u001b[0m\u001b[0m\n\u001b[1;32m     31\u001b[0m \u001b[0;32mdel\u001b[0m \u001b[0mmyset\u001b[0m\u001b[0;34m\u001b[0m\u001b[0;34m\u001b[0m\u001b[0m\n\u001b[0;32m---> 32\u001b[0;31m \u001b[0mprint\u001b[0m\u001b[0;34m(\u001b[0m\u001b[0mmyset\u001b[0m\u001b[0;34m)\u001b[0m\u001b[0;34m\u001b[0m\u001b[0;34m\u001b[0m\u001b[0m\n\u001b[0m\u001b[1;32m     33\u001b[0m \u001b[0;34m\u001b[0m\u001b[0m\n\u001b[1;32m     34\u001b[0m \u001b[0mset1\u001b[0m \u001b[0;34m=\u001b[0m \u001b[0;34m{\u001b[0m\u001b[0;34m\"a\"\u001b[0m\u001b[0;34m,\u001b[0m \u001b[0;34m\"b\"\u001b[0m \u001b[0;34m,\u001b[0m \u001b[0;34m\"c\"\u001b[0m\u001b[0;34m}\u001b[0m\u001b[0;34m\u001b[0m\u001b[0;34m\u001b[0m\u001b[0m\n",
            "\u001b[0;31mNameError\u001b[0m: name 'myset' is not defined"
          ]
        }
      ]
    },
    {
      "cell_type": "markdown",
      "metadata": {
        "id": "ATsCcQGMDogX",
        "colab_type": "text"
      },
      "source": [
        "\n",
        "\n",
        "Question 4: Given a list of n-1 numbers ranging from 1 to n, your task is to find the missing number. There are no duplicates.\n"
      ]
    },
    {
      "cell_type": "code",
      "metadata": {
        "id": "BdaSUUljBu1I",
        "colab_type": "code",
        "colab": {
          "base_uri": "https://localhost:8080/",
          "height": 358
        },
        "outputId": "bd3218cb-2a44-4349-8a80-6706a0a79c85"
      },
      "source": [
        "\n",
        "\n",
        "a = [79, 34, 6, 25, 91, 98, 42, 97, 63, 68, 18, 44, 17, 77, 71, 43, 16, 26, 13, 30, 52, 59, 96, 72, 49, 31, 35, 54, 80, 67, 62, 60, 5, 40, 65, 86, 47, 81, 100, 92, 89, 28, 50, 93, 46, 27, 11, 83, 58, 87, 8, 55, 73, 75, 10, 57, 1, 36, 95, 24, 19, 74, 85, 90, 2, 3, 41, 56, 48, 33, 45, 61, 51, 12, 21, 88, 64, 22, 76, 94, 14, 78, 20, 53, 7, 38, 23, 82, 29, 9, 84, 32, 69, 99, 15, 4, 39, 70, 37]\n",
        "def getMissingNo(a, n):\n",
        "    sum_of_n_elements = n*(n+1)//2\n",
        "    return sum_of_n_elements-sum(a)\n",
        "\n",
        "n = len(a)+1\n",
        "miss = getMissingNo(a, n) \n",
        "print(miss)\n",
        "\n"
      ],
      "execution_count": 14,
      "outputs": [
        {
          "output_type": "error",
          "ename": "TypeError",
          "evalue": "ignored",
          "traceback": [
            "\u001b[0;31m---------------------------------------------------------------------------\u001b[0m",
            "\u001b[0;31mTypeError\u001b[0m                                 Traceback (most recent call last)",
            "\u001b[0;32m<ipython-input-14-0257caa34873>\u001b[0m in \u001b[0;36m<module>\u001b[0;34m()\u001b[0m\n\u001b[1;32m      7\u001b[0m \u001b[0;34m\u001b[0m\u001b[0m\n\u001b[1;32m      8\u001b[0m \u001b[0mn\u001b[0m \u001b[0;34m=\u001b[0m \u001b[0mlen\u001b[0m\u001b[0;34m(\u001b[0m\u001b[0ma\u001b[0m\u001b[0;34m)\u001b[0m\u001b[0;34m+\u001b[0m\u001b[0;36m1\u001b[0m\u001b[0;34m\u001b[0m\u001b[0;34m\u001b[0m\u001b[0m\n\u001b[0;32m----> 9\u001b[0;31m \u001b[0mmiss\u001b[0m \u001b[0;34m=\u001b[0m \u001b[0mgetMissingNo\u001b[0m\u001b[0;34m(\u001b[0m\u001b[0ma\u001b[0m\u001b[0;34m,\u001b[0m \u001b[0mn\u001b[0m\u001b[0;34m)\u001b[0m\u001b[0;34m\u001b[0m\u001b[0;34m\u001b[0m\u001b[0m\n\u001b[0m\u001b[1;32m     10\u001b[0m \u001b[0mprint\u001b[0m\u001b[0;34m(\u001b[0m\u001b[0mmiss\u001b[0m\u001b[0;34m)\u001b[0m\u001b[0;34m\u001b[0m\u001b[0;34m\u001b[0m\u001b[0m\n\u001b[1;32m     11\u001b[0m \u001b[0;34m\u001b[0m\u001b[0m\n",
            "\u001b[0;32m<ipython-input-14-0257caa34873>\u001b[0m in \u001b[0;36mgetMissingNo\u001b[0;34m(a, n)\u001b[0m\n\u001b[1;32m      4\u001b[0m \u001b[0;32mdef\u001b[0m \u001b[0mgetMissingNo\u001b[0m\u001b[0;34m(\u001b[0m\u001b[0ma\u001b[0m\u001b[0;34m,\u001b[0m \u001b[0mn\u001b[0m\u001b[0;34m)\u001b[0m\u001b[0;34m:\u001b[0m\u001b[0;34m\u001b[0m\u001b[0;34m\u001b[0m\u001b[0m\n\u001b[1;32m      5\u001b[0m     \u001b[0msum_of_n_elements\u001b[0m \u001b[0;34m=\u001b[0m \u001b[0mn\u001b[0m\u001b[0;34m*\u001b[0m\u001b[0;34m(\u001b[0m\u001b[0mn\u001b[0m\u001b[0;34m+\u001b[0m\u001b[0;36m1\u001b[0m\u001b[0;34m)\u001b[0m\u001b[0;34m//\u001b[0m\u001b[0;36m2\u001b[0m\u001b[0;34m\u001b[0m\u001b[0;34m\u001b[0m\u001b[0m\n\u001b[0;32m----> 6\u001b[0;31m     \u001b[0;32mreturn\u001b[0m \u001b[0msum_of_n_elements\u001b[0m\u001b[0;34m-\u001b[0m\u001b[0msum\u001b[0m\u001b[0;34m(\u001b[0m\u001b[0ma\u001b[0m\u001b[0;34m)\u001b[0m\u001b[0;34m\u001b[0m\u001b[0;34m\u001b[0m\u001b[0m\n\u001b[0m\u001b[1;32m      7\u001b[0m \u001b[0;34m\u001b[0m\u001b[0m\n\u001b[1;32m      8\u001b[0m \u001b[0mn\u001b[0m \u001b[0;34m=\u001b[0m \u001b[0mlen\u001b[0m\u001b[0;34m(\u001b[0m\u001b[0ma\u001b[0m\u001b[0;34m)\u001b[0m\u001b[0;34m+\u001b[0m\u001b[0;36m1\u001b[0m\u001b[0;34m\u001b[0m\u001b[0;34m\u001b[0m\u001b[0m\n",
            "\u001b[0;31mTypeError\u001b[0m: 'int' object is not callable"
          ]
        }
      ]
    },
    {
      "cell_type": "markdown",
      "metadata": {
        "id": "O8KxsDQyEZSX",
        "colab_type": "text"
      },
      "source": [
        "Question 5: With a given list L, write a program to print this list L after removing all duplicate values with original order reserved."
      ]
    },
    {
      "cell_type": "code",
      "metadata": {
        "id": "ZHBNQduKBzeM",
        "colab_type": "code",
        "colab": {
          "base_uri": "https://localhost:8080/",
          "height": 34
        },
        "outputId": "86f02aea-fe96-4685-e1e8-1c00cda03a35"
      },
      "source": [
        "x = [45, 3, 7, 19, 2, 44, 36, 23, 42, 31, 30, 35, 25, 25, 35, 12, 16, 10, 21, 36, 17, 26, 48, 24, 10, 15, 16, 3, 11, 36, 15, 39, 17, 22, 8, 7, 41, 10, 45, 16, 41, 3, 33, 12, 3, 24, 13, 30, 24, 34, 23, 32, 28, 8, 10, 6, 26, 2, 3, 32, 21, 18, 26, 8, 35, 19, 43, 4, 5, 5, 44, 21, 33, 10, 14, 2, 20, 43, 12, 18, 42, 43, 21, 17, 31, 27, 44, 38, 41, 8, 4, 9, 25, 19, 21, 36, 46, 34, 23, 2]\n",
        "from collections import OrderedDict \n",
        "res = list(OrderedDict.fromkeys(x))   \n",
        "print(res)"
      ],
      "execution_count": 15,
      "outputs": [
        {
          "output_type": "stream",
          "text": [
            "[45, 3, 7, 19, 2, 44, 36, 23, 42, 31, 30, 35, 25, 12, 16, 10, 21, 17, 26, 48, 24, 15, 11, 39, 22, 8, 41, 33, 13, 34, 32, 28, 6, 18, 43, 4, 5, 14, 20, 27, 38, 9, 46]\n"
          ],
          "name": "stdout"
        }
      ]
    }
  ]
}